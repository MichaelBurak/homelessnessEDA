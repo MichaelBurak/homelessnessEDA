{
 "cells": [
  {
   "cell_type": "code",
   "execution_count": 1,
   "metadata": {
    "slideshow": {
     "slide_type": "slide"
    }
   },
   "outputs": [],
   "source": [
    "#!/usr/bin/env python3\n",
    "# -*- coding: utf-8 -*-\n",
    "\"\"\"\n",
    "Created on Sun May 20 14:11:56 2018\n",
    "\n",
    "@author: michaelburak\n",
    "\"\"\"\n",
    "\n",
    "# Importing the libraries\n",
    "import numpy as np\n",
    "import matplotlib.pyplot as plt\n",
    "import pandas as pd"
   ]
  },
  {
   "cell_type": "code",
   "execution_count": 2,
   "metadata": {
    "slideshow": {
     "slide_type": "slide"
    }
   },
   "outputs": [],
   "source": [
    "#Exposing dataframe with pandas\n",
    "df = pd.read_csv('2007-2016-Homelessnewss-USA.csv')"
   ]
  },
  {
   "cell_type": "code",
   "execution_count": 3,
   "metadata": {
    "slideshow": {
     "slide_type": "slide"
    }
   },
   "outputs": [],
   "source": [
    "#Cleaning and prep\n",
    "\n",
    "#Might drop these columns if only caring about the State\n",
    "#df = df.drop(columns=['CoC Number', 'CoC Name'])\n",
    "\n",
    "#Converting count to int type from str\n",
    "\n",
    "df['Count'] = df['Count'].str.replace(',', '').astype(np.int64)"
   ]
  },
  {
   "cell_type": "code",
   "execution_count": 4,
   "metadata": {
    "slideshow": {
     "slide_type": "slide"
    }
   },
   "outputs": [],
   "source": [
    "#Converting year to datetime and setting to years\n",
    "df['Year'] = pd.to_datetime(df['Year'])\n",
    "\n",
    "df['Year'] = df['Year'].dt.year"
   ]
  },
  {
   "cell_type": "code",
   "execution_count": 5,
   "metadata": {
    "slideshow": {
     "slide_type": "slide"
    }
   },
   "outputs": [
    {
     "data": {
      "text/html": [
       "<div>\n",
       "<style scoped>\n",
       "    .dataframe tbody tr th:only-of-type {\n",
       "        vertical-align: middle;\n",
       "    }\n",
       "\n",
       "    .dataframe tbody tr th {\n",
       "        vertical-align: top;\n",
       "    }\n",
       "\n",
       "    .dataframe thead th {\n",
       "        text-align: right;\n",
       "    }\n",
       "</style>\n",
       "<table border=\"1\" class=\"dataframe\">\n",
       "  <thead>\n",
       "    <tr style=\"text-align: right;\">\n",
       "      <th></th>\n",
       "      <th>Year</th>\n",
       "      <th>State</th>\n",
       "      <th>CoC Number</th>\n",
       "      <th>CoC Name</th>\n",
       "      <th>Measures</th>\n",
       "      <th>Count</th>\n",
       "    </tr>\n",
       "  </thead>\n",
       "  <tbody>\n",
       "    <tr>\n",
       "      <th>0</th>\n",
       "      <td>2007</td>\n",
       "      <td>AK</td>\n",
       "      <td>AK-500</td>\n",
       "      <td>Anchorage CoC</td>\n",
       "      <td>Chronically Homeless Individuals</td>\n",
       "      <td>224</td>\n",
       "    </tr>\n",
       "    <tr>\n",
       "      <th>1</th>\n",
       "      <td>2007</td>\n",
       "      <td>AK</td>\n",
       "      <td>AK-500</td>\n",
       "      <td>Anchorage CoC</td>\n",
       "      <td>Homeless Individuals</td>\n",
       "      <td>696</td>\n",
       "    </tr>\n",
       "    <tr>\n",
       "      <th>2</th>\n",
       "      <td>2007</td>\n",
       "      <td>AK</td>\n",
       "      <td>AK-500</td>\n",
       "      <td>Anchorage CoC</td>\n",
       "      <td>Homeless People in Families</td>\n",
       "      <td>278</td>\n",
       "    </tr>\n",
       "    <tr>\n",
       "      <th>3</th>\n",
       "      <td>2007</td>\n",
       "      <td>AK</td>\n",
       "      <td>AK-500</td>\n",
       "      <td>Anchorage CoC</td>\n",
       "      <td>Sheltered Chronically Homeless Individuals</td>\n",
       "      <td>187</td>\n",
       "    </tr>\n",
       "    <tr>\n",
       "      <th>4</th>\n",
       "      <td>2007</td>\n",
       "      <td>AK</td>\n",
       "      <td>AK-500</td>\n",
       "      <td>Anchorage CoC</td>\n",
       "      <td>Sheltered Homeless</td>\n",
       "      <td>842</td>\n",
       "    </tr>\n",
       "  </tbody>\n",
       "</table>\n",
       "</div>"
      ],
      "text/plain": [
       "   Year State CoC Number       CoC Name  \\\n",
       "0  2007    AK     AK-500  Anchorage CoC   \n",
       "1  2007    AK     AK-500  Anchorage CoC   \n",
       "2  2007    AK     AK-500  Anchorage CoC   \n",
       "3  2007    AK     AK-500  Anchorage CoC   \n",
       "4  2007    AK     AK-500  Anchorage CoC   \n",
       "\n",
       "                                     Measures  Count  \n",
       "0            Chronically Homeless Individuals    224  \n",
       "1                        Homeless Individuals    696  \n",
       "2                 Homeless People in Families    278  \n",
       "3  Sheltered Chronically Homeless Individuals    187  \n",
       "4                          Sheltered Homeless    842  "
      ]
     },
     "execution_count": 5,
     "metadata": {},
     "output_type": "execute_result"
    }
   ],
   "source": [
    "#Examine head of dataset \n",
    "\n",
    "df.head()"
   ]
  },
  {
   "cell_type": "code",
   "execution_count": 6,
   "metadata": {
    "slideshow": {
     "slide_type": "slide"
    }
   },
   "outputs": [
    {
     "data": {
      "text/html": [
       "<div>\n",
       "<style scoped>\n",
       "    .dataframe tbody tr th:only-of-type {\n",
       "        vertical-align: middle;\n",
       "    }\n",
       "\n",
       "    .dataframe tbody tr th {\n",
       "        vertical-align: top;\n",
       "    }\n",
       "\n",
       "    .dataframe thead th {\n",
       "        text-align: right;\n",
       "    }\n",
       "</style>\n",
       "<table border=\"1\" class=\"dataframe\">\n",
       "  <thead>\n",
       "    <tr style=\"text-align: right;\">\n",
       "      <th></th>\n",
       "      <th>Year</th>\n",
       "      <th>State</th>\n",
       "      <th>CoC Number</th>\n",
       "      <th>CoC Name</th>\n",
       "      <th>Measures</th>\n",
       "      <th>Count</th>\n",
       "    </tr>\n",
       "  </thead>\n",
       "  <tbody>\n",
       "    <tr>\n",
       "      <th>86524</th>\n",
       "      <td>2016</td>\n",
       "      <td>WY</td>\n",
       "      <td>WY-500</td>\n",
       "      <td>Wyoming Statewide CoC</td>\n",
       "      <td>Unsheltered Homeless Unaccompanied Youth (Unde...</td>\n",
       "      <td>7</td>\n",
       "    </tr>\n",
       "    <tr>\n",
       "      <th>86525</th>\n",
       "      <td>2016</td>\n",
       "      <td>WY</td>\n",
       "      <td>WY-500</td>\n",
       "      <td>Wyoming Statewide CoC</td>\n",
       "      <td>Unsheltered Homeless Veterans</td>\n",
       "      <td>31</td>\n",
       "    </tr>\n",
       "    <tr>\n",
       "      <th>86526</th>\n",
       "      <td>2016</td>\n",
       "      <td>WY</td>\n",
       "      <td>WY-500</td>\n",
       "      <td>Wyoming Statewide CoC</td>\n",
       "      <td>Unsheltered Parenting Youth (Under 25)</td>\n",
       "      <td>3</td>\n",
       "    </tr>\n",
       "    <tr>\n",
       "      <th>86527</th>\n",
       "      <td>2016</td>\n",
       "      <td>WY</td>\n",
       "      <td>WY-500</td>\n",
       "      <td>Wyoming Statewide CoC</td>\n",
       "      <td>Unsheltered Parenting Youth Age 18-24</td>\n",
       "      <td>3</td>\n",
       "    </tr>\n",
       "    <tr>\n",
       "      <th>86528</th>\n",
       "      <td>2016</td>\n",
       "      <td>WY</td>\n",
       "      <td>WY-500</td>\n",
       "      <td>Wyoming Statewide CoC</td>\n",
       "      <td>Unsheltered Parenting Youth Under 18</td>\n",
       "      <td>0</td>\n",
       "    </tr>\n",
       "  </tbody>\n",
       "</table>\n",
       "</div>"
      ],
      "text/plain": [
       "       Year State CoC Number               CoC Name  \\\n",
       "86524  2016    WY     WY-500  Wyoming Statewide CoC   \n",
       "86525  2016    WY     WY-500  Wyoming Statewide CoC   \n",
       "86526  2016    WY     WY-500  Wyoming Statewide CoC   \n",
       "86527  2016    WY     WY-500  Wyoming Statewide CoC   \n",
       "86528  2016    WY     WY-500  Wyoming Statewide CoC   \n",
       "\n",
       "                                                Measures  Count  \n",
       "86524  Unsheltered Homeless Unaccompanied Youth (Unde...      7  \n",
       "86525                      Unsheltered Homeless Veterans     31  \n",
       "86526             Unsheltered Parenting Youth (Under 25)      3  \n",
       "86527              Unsheltered Parenting Youth Age 18-24      3  \n",
       "86528               Unsheltered Parenting Youth Under 18      0  "
      ]
     },
     "execution_count": 6,
     "metadata": {},
     "output_type": "execute_result"
    }
   ],
   "source": [
    "#Examine tail \n",
    "\n",
    "df.tail()"
   ]
  },
  {
   "cell_type": "code",
   "execution_count": 7,
   "metadata": {
    "slideshow": {
     "slide_type": "slide"
    }
   },
   "outputs": [
    {
     "data": {
      "text/plain": [
       "array(['Chronically Homeless Individuals', 'Homeless Individuals',\n",
       "       'Homeless People in Families',\n",
       "       'Sheltered Chronically Homeless Individuals', 'Sheltered Homeless',\n",
       "       'Sheltered Homeless Individuals',\n",
       "       'Sheltered Homeless People in Families', 'Total Homeless',\n",
       "       'Unsheltered Chronically Homeless Individuals',\n",
       "       'Unsheltered Homeless', 'Unsheltered Homeless Individuals',\n",
       "       'Unsheltered Homeless People in Families', 'Chronically Homeless',\n",
       "       'Chronically Homeless People in Families', 'Homeless Veterans',\n",
       "       'Sheltered Chronically Homeless',\n",
       "       'Sheltered Chronically Homeless People in Families',\n",
       "       'Sheltered Homeless Veterans', 'Unsheltered Chronically Homeless',\n",
       "       'Unsheltered Chronically Homeless People in Families',\n",
       "       'Unsheltered Homeless Veterans', 'Children of Parenting Youth',\n",
       "       'Homeless Unaccompanied Children (Under 18)',\n",
       "       'Homeless Unaccompanied Young Adults (Age 18-24)',\n",
       "       'Homeless Unaccompanied Youth (Under 25)',\n",
       "       'Parenting Youth (Under 25)', 'Parenting Youth Age 18-24',\n",
       "       'Parenting Youth Under 18',\n",
       "       'Sheltered Children of Parenting Youth',\n",
       "       'Sheltered Homeless Unaccompanied Children (Under 18)',\n",
       "       'Sheltered Homeless Unaccompanied Young Adults (Age 18-24)',\n",
       "       'Sheltered Homeless Unaccompanied Youth (Under 25)',\n",
       "       'Sheltered Parenting Youth (Under 25)',\n",
       "       'Sheltered Parenting Youth Age 18-24',\n",
       "       'Sheltered Parenting Youth Under 18',\n",
       "       'Unsheltered Children of Parenting Youth',\n",
       "       'Unsheltered Homeless Unaccompanied Children (Under 18)',\n",
       "       'Unsheltered Homeless Unaccompanied Young Adults (Age 18-24)',\n",
       "       'Unsheltered Homeless Unaccompanied Youth (Under 25)',\n",
       "       'Unsheltered Parenting Youth (Under 25)',\n",
       "       'Unsheltered Parenting Youth Age 18-24',\n",
       "       'Unsheltered Parenting Youth Under 18'], dtype=object)"
      ]
     },
     "execution_count": 7,
     "metadata": {},
     "output_type": "execute_result"
    }
   ],
   "source": [
    "#List all measures \n",
    "df.Measures.unique()"
   ]
  },
  {
   "cell_type": "code",
   "execution_count": 9,
   "metadata": {
    "slideshow": {
     "slide_type": "slide"
    }
   },
   "outputs": [],
   "source": [
    "#finding occurrences of homeless veterans \n",
    "\n",
    "Filter = df.Measures == \"Homeless Veterans\"\n",
    "\n",
    "filDf = df[Filter] #2404 rows"
   ]
  },
  {
   "cell_type": "code",
   "execution_count": 10,
   "metadata": {
    "slideshow": {
     "slide_type": "slide"
    }
   },
   "outputs": [],
   "source": [
    "#Chronically homeless individuals, seeing total occurrences of something tracked\n",
    "#through whole data set as measure\n",
    "\n",
    "Filter2 = df.Measures == \"Chronically Homeless Individuals\"\n",
    "\n",
    "filDf2 = df[Filter2]"
   ]
  },
  {
   "cell_type": "code",
   "execution_count": 11,
   "metadata": {
    "slideshow": {
     "slide_type": "slide"
    }
   },
   "outputs": [],
   "source": [
    "#First set of tracked values includes 12 measures per state per year, beginning with CHI measure\n",
    "#then grows to 21 (+9)\n",
    "#9 measures not included=\n",
    "initialMeasuresSchema = df.iloc[0:11]\n",
    "veteransMeasuresSchema = df.iloc[19145:19166]"
   ]
  },
  {
   "cell_type": "code",
   "execution_count": 12,
   "metadata": {
    "slideshow": {
     "slide_type": "slide"
    }
   },
   "outputs": [],
   "source": [
    "#entire measures for first examination of veterans\n",
    "#size 12 - 12 measurements\n",
    "filDf2007 = df[(df[\"CoC Number\"] == \"AK-500\") &  (df['Year'] == 2007)]\n",
    "#jumps to size 21 - 21 measurements\n",
    "filDf2011 = df[(df[\"CoC Number\"] == \"AK-500\") &  (df['Year'] == 2011)]\n",
    "#jumps to size 42- 42 measurements\n",
    "filDf2015 = df[(df[\"CoC Number\"] == \"AK-500\") &  (df['Year'] == 2015)]"
   ]
  },
  {
   "cell_type": "code",
   "execution_count": null,
   "metadata": {},
   "outputs": [],
   "source": []
  }
 ],
 "metadata": {
  "kernelspec": {
   "display_name": "Python 3",
   "language": "python",
   "name": "python3"
  },
  "language_info": {
   "codemirror_mode": {
    "name": "ipython",
    "version": 3
   },
   "file_extension": ".py",
   "mimetype": "text/x-python",
   "name": "python",
   "nbconvert_exporter": "python",
   "pygments_lexer": "ipython3",
   "version": "3.6.4"
  }
 },
 "nbformat": 4,
 "nbformat_minor": 2
}
